{
 "cells": [
  {
   "cell_type": "code",
   "execution_count": 5,
   "metadata": {},
   "outputs": [
    {
     "name": "stdout",
     "output_type": "stream",
     "text": [
      "<think>\n",
      "\n",
      "</think>\n",
      "\n",
      "Singapore is a country located in Southeast Asia, known for its vibrant cityscape, diverse culture, and modern advancements. Here are some key points about Singapore:\n",
      "\n",
      "### Geography\n",
      "- **Location**: Situated between the Malay Peninsula to the west, Java Sea (Indonesia) to the north, Malacca Strait (Malaysia) to the east, and the Indian Ocean to the south.\n",
      "- **Landlocked**: Shares borders with Malaysia on the northeast, Indonesia on the northwest, Thailand on the north, and East Timor (Timor-Leste) on the northwest.\n",
      "\n",
      "### Capital and Major Cities\n",
      "- **Capital**: Singapore is its own capital city, located in the central part of the island nation.\n",
      "- **Major Cities**:\n",
      "  - **Singularix City (SCC)**: A futuristic mixed-use district at the heart of Singapore, featuring high-rise apartments, shopping centers, and entertainment zones.\n",
      "  - **Bugis Street**: Known for its vibrant nightlife, dining scene, and shopping opportunities.\n",
      "\n",
      "### Climate\n",
      "- **Climate Type**: Tropical rainforest climate with warm temperatures year-round and frequent rainfalls.\n",
      "\n",
      "### Culture\n",
      "- **Multicultural Society**: Singapore is a multicultural metropolis, with people from over 40 countries speaking English, Malay (Kristianese), Mandarin, and other languages.\n",
      "- **Cuisine**: Known for its diverse culinary scene, featuring fusion of Chinese, Malay, Southeast Asian, Western, and Indian influences.\n",
      "\n",
      "### Economy\n",
      "- **Key Industries**: Financial services, engineering, education, real estate, and technology sectors are prominent in Singapore's economy.\n",
      "- **GDPA**: Singapore is among the world's most prosperous cities with a high standard of living, low crime rates, and high levels of social services.\n",
      "\n",
      "### Government\n",
      "- **Political System**: A semi-presidential republic with a parliamentary system. The Prime Minister leads the government, which is supported by the executive and legislative branches.\n",
      "- **Legal Basis**: The Basic Law outlines Singapore's political structure and legal framework, ensuring close ties to China while maintaining its independence.\n",
      "\n",
      "### Education\n",
      "- **Education System**: Singapore has a robust education system that places a strong emphasis on academic performance. The Singaporean Education System (SES) is renowned for producing high-performing students.\n",
      "- **Universities**: Includes prestigious institutions like the National University of Singapore, which is consistently ranked among the best universities globally.\n",
      "\n",
      "### Infrastructure\n",
      "- **Modern Infrastructure**: Renowned for its state-of-the-art infrastructure, including highways, ports, and airports. The Marina Bay Sands and the Marina Centre are iconic landmarks showcasing Singapore's modern development.\n",
      "\n",
      "### Environment\n",
      "- **Sustainability Efforts**: Singapore has implemented extensive measures to protect its natural environment, including reforestation projects and waste management initiatives.\n",
      "\n",
      "### Tourism\n",
      "- **Attractions**: Offers a mix of cultural heritage and futuristic attractions, making it a popular tourist destination. Must-visit spots include the Singapore Flyer, Gardens by the Bay, and the National Museum of Hackneyed Technology.\n",
      "\n",
      "### Language\n",
      "- **Official Languages**: English (used throughout the country), Malay (Kristianese dialect) for government communication, and some other languages in limited contexts.\n",
      "\n",
      "Singapore is a dynamic city-state that balances its modernity with its rich cultural heritage, making it a unique and fascinating place to live and visit.\n"
     ]
    }
   ],
   "source": [
    "import ollama\n",
    "response = ollama.chat(model='deepseek-r1:7b', messages=\n",
    "[\n",
    "  { 'role': 'user',  'content': \"Describe Singapore\"}\n",
    "])\n",
    "print(response['message']['content'])"
   ]
  },
  {
   "cell_type": "code",
   "execution_count": null,
   "metadata": {},
   "outputs": [],
   "source": []
  }
 ],
 "metadata": {
  "kernelspec": {
   "display_name": "genai",
   "language": "python",
   "name": "python3"
  },
  "language_info": {
   "codemirror_mode": {
    "name": "ipython",
    "version": 3
   },
   "file_extension": ".py",
   "mimetype": "text/x-python",
   "name": "python",
   "nbconvert_exporter": "python",
   "pygments_lexer": "ipython3",
   "version": "3.10.16"
  }
 },
 "nbformat": 4,
 "nbformat_minor": 2
}
